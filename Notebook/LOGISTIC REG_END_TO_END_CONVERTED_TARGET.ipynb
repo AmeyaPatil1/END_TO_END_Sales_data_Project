{
 "cells": [
  {
   "cell_type": "code",
   "execution_count": 114,
   "metadata": {},
   "outputs": [],
   "source": [
    "#Importing Libraries\n",
    "import pandas as pd\n",
    "import numpy as np\n",
    "import matplotlib.pyplot as plt\n",
    "import seaborn as sns\n",
    "import warnings"
   ]
  },
  {
   "cell_type": "code",
   "execution_count": 115,
   "metadata": {},
   "outputs": [
    {
     "data": {
      "text/html": [
       "<div>\n",
       "<style scoped>\n",
       "    .dataframe tbody tr th:only-of-type {\n",
       "        vertical-align: middle;\n",
       "    }\n",
       "\n",
       "    .dataframe tbody tr th {\n",
       "        vertical-align: top;\n",
       "    }\n",
       "\n",
       "    .dataframe thead th {\n",
       "        text-align: right;\n",
       "    }\n",
       "</style>\n",
       "<table border=\"1\" class=\"dataframe\">\n",
       "  <thead>\n",
       "    <tr style=\"text-align: right;\">\n",
       "      <th></th>\n",
       "      <th>Namee</th>\n",
       "      <th>Email</th>\n",
       "      <th>Contact</th>\n",
       "      <th>City</th>\n",
       "      <th>Referencee</th>\n",
       "      <th>Handled_By</th>\n",
       "      <th>Leadd</th>\n",
       "      <th>Converted</th>\n",
       "      <th>To_Be_Converted</th>\n",
       "    </tr>\n",
       "  </thead>\n",
       "  <tbody>\n",
       "    <tr>\n",
       "      <th>0</th>\n",
       "      <td>Dinesh Deenu</td>\n",
       "      <td>dinesgdeenu88123@gmgil.com</td>\n",
       "      <td>9923998794</td>\n",
       "      <td>Bageshwar</td>\n",
       "      <td>Google Ad</td>\n",
       "      <td>Ronak Jadhav</td>\n",
       "      <td>End Lead</td>\n",
       "      <td>NO</td>\n",
       "      <td>NO</td>\n",
       "    </tr>\n",
       "    <tr>\n",
       "      <th>1</th>\n",
       "      <td>Chellapandi Pandi</td>\n",
       "      <td>cpcginnng@gmgil.com</td>\n",
       "      <td>9782442949</td>\n",
       "      <td>Madurai</td>\n",
       "      <td>Google Ad</td>\n",
       "      <td>Deepali Kasatwar</td>\n",
       "      <td>Active lead</td>\n",
       "      <td>NO</td>\n",
       "      <td>NO</td>\n",
       "    </tr>\n",
       "    <tr>\n",
       "      <th>2</th>\n",
       "      <td>Anand Nanda</td>\n",
       "      <td>gngndngndg990@gmgil.com</td>\n",
       "      <td>8929922349</td>\n",
       "      <td>jamakandi</td>\n",
       "      <td>Google Ad</td>\n",
       "      <td>Roshan Patil</td>\n",
       "      <td>Active lead</td>\n",
       "      <td>NO</td>\n",
       "      <td>NO</td>\n",
       "    </tr>\n",
       "    <tr>\n",
       "      <th>3</th>\n",
       "      <td>Saroj Kumar</td>\n",
       "      <td>sknilgm88@gmgil.com</td>\n",
       "      <td>8921739233</td>\n",
       "      <td>Kolkata</td>\n",
       "      <td>Google Ad</td>\n",
       "      <td>Kiran Dhakal</td>\n",
       "      <td>Active lead</td>\n",
       "      <td>NO</td>\n",
       "      <td>NO</td>\n",
       "    </tr>\n",
       "    <tr>\n",
       "      <th>4</th>\n",
       "      <td>Jitendrasinh Rajput Garashiya</td>\n",
       "      <td>jitendrgsingrgjput345345@gmgil.com</td>\n",
       "      <td>9323891992</td>\n",
       "      <td>Anand</td>\n",
       "      <td>Insta</td>\n",
       "      <td>Pooja Melwani</td>\n",
       "      <td>Active lead</td>\n",
       "      <td>NO</td>\n",
       "      <td>NO</td>\n",
       "    </tr>\n",
       "    <tr>\n",
       "      <th>...</th>\n",
       "      <td>...</td>\n",
       "      <td>...</td>\n",
       "      <td>...</td>\n",
       "      <td>...</td>\n",
       "      <td>...</td>\n",
       "      <td>...</td>\n",
       "      <td>...</td>\n",
       "      <td>...</td>\n",
       "      <td>...</td>\n",
       "    </tr>\n",
       "    <tr>\n",
       "      <th>995</th>\n",
       "      <td>daniel</td>\n",
       "      <td>dgnieljognson789@yggoo.com</td>\n",
       "      <td>9247832721</td>\n",
       "      <td>Mumbai</td>\n",
       "      <td>FB</td>\n",
       "      <td>Abhijeet Bramhane</td>\n",
       "      <td>Hot lead</td>\n",
       "      <td>NO</td>\n",
       "      <td>YES</td>\n",
       "    </tr>\n",
       "    <tr>\n",
       "      <th>996</th>\n",
       "      <td>sophia p</td>\n",
       "      <td>sopgigprice234@gmgil.com</td>\n",
       "      <td>9243212721</td>\n",
       "      <td>Nagpur</td>\n",
       "      <td>FB</td>\n",
       "      <td>Akash Sharma</td>\n",
       "      <td>Hot lead</td>\n",
       "      <td>YES</td>\n",
       "      <td>Coverted</td>\n",
       "    </tr>\n",
       "    <tr>\n",
       "      <th>997</th>\n",
       "      <td>william adams</td>\n",
       "      <td>willigmgdgms456@gotmgil.com</td>\n",
       "      <td>9229432721</td>\n",
       "      <td>Dibrugarh</td>\n",
       "      <td>FB</td>\n",
       "      <td>Suryakant Choudhary</td>\n",
       "      <td>End Lead</td>\n",
       "      <td>NO</td>\n",
       "      <td>NO</td>\n",
       "    </tr>\n",
       "    <tr>\n",
       "      <th>998</th>\n",
       "      <td>mialee</td>\n",
       "      <td>miglee789@yggoo.com</td>\n",
       "      <td>9243192721</td>\n",
       "      <td>Vaidpura Etawah</td>\n",
       "      <td>FB</td>\n",
       "      <td>Sushant Nikam</td>\n",
       "      <td>End Lead</td>\n",
       "      <td>NO</td>\n",
       "      <td>NO</td>\n",
       "    </tr>\n",
       "    <tr>\n",
       "      <th>999</th>\n",
       "      <td>Rajeshh</td>\n",
       "      <td>rdpgtil651@gmgil.com</td>\n",
       "      <td>9244132721</td>\n",
       "      <td>Navi Mumbai</td>\n",
       "      <td>whatsapp</td>\n",
       "      <td>Sushant Nikam</td>\n",
       "      <td>End Lead</td>\n",
       "      <td>NO</td>\n",
       "      <td>NO</td>\n",
       "    </tr>\n",
       "  </tbody>\n",
       "</table>\n",
       "<p>1000 rows × 9 columns</p>\n",
       "</div>"
      ],
      "text/plain": [
       "                             Namee                             Email    \\\n",
       "0                     Dinesh Deenu          dinesgdeenu88123@gmgil.com   \n",
       "1                Chellapandi Pandi                 cpcginnng@gmgil.com   \n",
       "2                      Anand Nanda             gngndngndg990@gmgil.com   \n",
       "3                      Saroj Kumar                 sknilgm88@gmgil.com   \n",
       "4    Jitendrasinh Rajput Garashiya  jitendrgsingrgjput345345@gmgil.com   \n",
       "..                             ...                                 ...   \n",
       "995                         daniel          dgnieljognson789@yggoo.com   \n",
       "996                       sophia p            sopgigprice234@gmgil.com   \n",
       "997                  william adams         willigmgdgms456@gotmgil.com   \n",
       "998                         mialee                 miglee789@yggoo.com   \n",
       "999                        Rajeshh                rdpgtil651@gmgil.com   \n",
       "\n",
       "        Contact             City Referencee           Handled_By        Leadd  \\\n",
       "0    9923998794        Bageshwar  Google Ad         Ronak Jadhav     End Lead   \n",
       "1    9782442949          Madurai  Google Ad     Deepali Kasatwar  Active lead   \n",
       "2    8929922349        jamakandi  Google Ad         Roshan Patil  Active lead   \n",
       "3    8921739233          Kolkata  Google Ad         Kiran Dhakal  Active lead   \n",
       "4    9323891992            Anand      Insta        Pooja Melwani  Active lead   \n",
       "..          ...              ...        ...                  ...          ...   \n",
       "995  9247832721           Mumbai         FB    Abhijeet Bramhane     Hot lead   \n",
       "996  9243212721           Nagpur         FB         Akash Sharma     Hot lead   \n",
       "997  9229432721        Dibrugarh         FB  Suryakant Choudhary     End Lead   \n",
       "998  9243192721  Vaidpura Etawah         FB        Sushant Nikam     End Lead   \n",
       "999  9244132721      Navi Mumbai   whatsapp        Sushant Nikam     End Lead   \n",
       "\n",
       "    Converted To_Be_Converted  \n",
       "0          NO              NO  \n",
       "1          NO              NO  \n",
       "2          NO              NO  \n",
       "3          NO              NO  \n",
       "4          NO              NO  \n",
       "..        ...             ...  \n",
       "995        NO             YES  \n",
       "996       YES        Coverted  \n",
       "997        NO              NO  \n",
       "998        NO              NO  \n",
       "999        NO              NO  \n",
       "\n",
       "[1000 rows x 9 columns]"
      ]
     },
     "execution_count": 115,
     "metadata": {},
     "output_type": "execute_result"
    }
   ],
   "source": [
    "#Loading data\n",
    "df=pd.read_csv('END_TO_END_SALES.csv')\n",
    "df"
   ]
  },
  {
   "cell_type": "code",
   "execution_count": 116,
   "metadata": {},
   "outputs": [
    {
     "data": {
      "text/html": [
       "<div>\n",
       "<style scoped>\n",
       "    .dataframe tbody tr th:only-of-type {\n",
       "        vertical-align: middle;\n",
       "    }\n",
       "\n",
       "    .dataframe tbody tr th {\n",
       "        vertical-align: top;\n",
       "    }\n",
       "\n",
       "    .dataframe thead th {\n",
       "        text-align: right;\n",
       "    }\n",
       "</style>\n",
       "<table border=\"1\" class=\"dataframe\">\n",
       "  <thead>\n",
       "    <tr style=\"text-align: right;\">\n",
       "      <th></th>\n",
       "      <th>Referencee</th>\n",
       "      <th>Handled_By</th>\n",
       "      <th>Leadd</th>\n",
       "      <th>Converted</th>\n",
       "    </tr>\n",
       "  </thead>\n",
       "  <tbody>\n",
       "    <tr>\n",
       "      <th>0</th>\n",
       "      <td>Google Ad</td>\n",
       "      <td>Ronak Jadhav</td>\n",
       "      <td>End Lead</td>\n",
       "      <td>NO</td>\n",
       "    </tr>\n",
       "    <tr>\n",
       "      <th>1</th>\n",
       "      <td>Google Ad</td>\n",
       "      <td>Deepali Kasatwar</td>\n",
       "      <td>Active lead</td>\n",
       "      <td>NO</td>\n",
       "    </tr>\n",
       "    <tr>\n",
       "      <th>2</th>\n",
       "      <td>Google Ad</td>\n",
       "      <td>Roshan Patil</td>\n",
       "      <td>Active lead</td>\n",
       "      <td>NO</td>\n",
       "    </tr>\n",
       "    <tr>\n",
       "      <th>3</th>\n",
       "      <td>Google Ad</td>\n",
       "      <td>Kiran Dhakal</td>\n",
       "      <td>Active lead</td>\n",
       "      <td>NO</td>\n",
       "    </tr>\n",
       "    <tr>\n",
       "      <th>4</th>\n",
       "      <td>Insta</td>\n",
       "      <td>Pooja Melwani</td>\n",
       "      <td>Active lead</td>\n",
       "      <td>NO</td>\n",
       "    </tr>\n",
       "    <tr>\n",
       "      <th>...</th>\n",
       "      <td>...</td>\n",
       "      <td>...</td>\n",
       "      <td>...</td>\n",
       "      <td>...</td>\n",
       "    </tr>\n",
       "    <tr>\n",
       "      <th>995</th>\n",
       "      <td>FB</td>\n",
       "      <td>Abhijeet Bramhane</td>\n",
       "      <td>Hot lead</td>\n",
       "      <td>NO</td>\n",
       "    </tr>\n",
       "    <tr>\n",
       "      <th>996</th>\n",
       "      <td>FB</td>\n",
       "      <td>Akash Sharma</td>\n",
       "      <td>Hot lead</td>\n",
       "      <td>YES</td>\n",
       "    </tr>\n",
       "    <tr>\n",
       "      <th>997</th>\n",
       "      <td>FB</td>\n",
       "      <td>Suryakant Choudhary</td>\n",
       "      <td>End Lead</td>\n",
       "      <td>NO</td>\n",
       "    </tr>\n",
       "    <tr>\n",
       "      <th>998</th>\n",
       "      <td>FB</td>\n",
       "      <td>Sushant Nikam</td>\n",
       "      <td>End Lead</td>\n",
       "      <td>NO</td>\n",
       "    </tr>\n",
       "    <tr>\n",
       "      <th>999</th>\n",
       "      <td>whatsapp</td>\n",
       "      <td>Sushant Nikam</td>\n",
       "      <td>End Lead</td>\n",
       "      <td>NO</td>\n",
       "    </tr>\n",
       "  </tbody>\n",
       "</table>\n",
       "<p>1000 rows × 4 columns</p>\n",
       "</div>"
      ],
      "text/plain": [
       "    Referencee           Handled_By        Leadd Converted\n",
       "0    Google Ad         Ronak Jadhav     End Lead        NO\n",
       "1    Google Ad     Deepali Kasatwar  Active lead        NO\n",
       "2    Google Ad         Roshan Patil  Active lead        NO\n",
       "3    Google Ad         Kiran Dhakal  Active lead        NO\n",
       "4        Insta        Pooja Melwani  Active lead        NO\n",
       "..         ...                  ...          ...       ...\n",
       "995         FB    Abhijeet Bramhane     Hot lead        NO\n",
       "996         FB         Akash Sharma     Hot lead       YES\n",
       "997         FB  Suryakant Choudhary     End Lead        NO\n",
       "998         FB        Sushant Nikam     End Lead        NO\n",
       "999   whatsapp        Sushant Nikam     End Lead        NO\n",
       "\n",
       "[1000 rows x 4 columns]"
      ]
     },
     "execution_count": 116,
     "metadata": {},
     "output_type": "execute_result"
    }
   ],
   "source": [
    "# Taking the features that we need for processing\n",
    "df=df[['Referencee','Handled_By','Leadd','Converted']]\n",
    "df"
   ]
  },
  {
   "cell_type": "code",
   "execution_count": 117,
   "metadata": {},
   "outputs": [
    {
     "data": {
      "text/plain": [
       "Referencee    0\n",
       "Handled_By    0\n",
       "Leadd         0\n",
       "Converted     0\n",
       "dtype: int64"
      ]
     },
     "execution_count": 117,
     "metadata": {},
     "output_type": "execute_result"
    }
   ],
   "source": [
    "# Checking for null values in any row\n",
    "df.isnull().sum()"
   ]
  },
  {
   "cell_type": "code",
   "execution_count": 118,
   "metadata": {},
   "outputs": [
    {
     "data": {
      "text/html": [
       "<div>\n",
       "<style scoped>\n",
       "    .dataframe tbody tr th:only-of-type {\n",
       "        vertical-align: middle;\n",
       "    }\n",
       "\n",
       "    .dataframe tbody tr th {\n",
       "        vertical-align: top;\n",
       "    }\n",
       "\n",
       "    .dataframe thead th {\n",
       "        text-align: right;\n",
       "    }\n",
       "</style>\n",
       "<table border=\"1\" class=\"dataframe\">\n",
       "  <thead>\n",
       "    <tr style=\"text-align: right;\">\n",
       "      <th></th>\n",
       "      <th>Referencee</th>\n",
       "      <th>Handled_By</th>\n",
       "      <th>Leadd</th>\n",
       "      <th>Converted</th>\n",
       "    </tr>\n",
       "  </thead>\n",
       "  <tbody>\n",
       "    <tr>\n",
       "      <th>count</th>\n",
       "      <td>1000</td>\n",
       "      <td>1000</td>\n",
       "      <td>1000</td>\n",
       "      <td>1000</td>\n",
       "    </tr>\n",
       "    <tr>\n",
       "      <th>unique</th>\n",
       "      <td>7</td>\n",
       "      <td>18</td>\n",
       "      <td>3</td>\n",
       "      <td>2</td>\n",
       "    </tr>\n",
       "    <tr>\n",
       "      <th>top</th>\n",
       "      <td>FB</td>\n",
       "      <td>Deepali Kasatwar</td>\n",
       "      <td>End Lead</td>\n",
       "      <td>NO</td>\n",
       "    </tr>\n",
       "    <tr>\n",
       "      <th>freq</th>\n",
       "      <td>228</td>\n",
       "      <td>66</td>\n",
       "      <td>496</td>\n",
       "      <td>938</td>\n",
       "    </tr>\n",
       "  </tbody>\n",
       "</table>\n",
       "</div>"
      ],
      "text/plain": [
       "       Referencee        Handled_By     Leadd Converted\n",
       "count        1000              1000      1000      1000\n",
       "unique          7                18         3         2\n",
       "top            FB  Deepali Kasatwar  End Lead        NO\n",
       "freq          228                66       496       938"
      ]
     },
     "execution_count": 118,
     "metadata": {},
     "output_type": "execute_result"
    }
   ],
   "source": [
    "# Descriptive statistic\n",
    "df.describe()"
   ]
  },
  {
   "cell_type": "code",
   "execution_count": 119,
   "metadata": {},
   "outputs": [
    {
     "data": {
      "text/plain": [
       "array(['End Lead', 'Active lead', 'Hot lead'], dtype=object)"
      ]
     },
     "execution_count": 119,
     "metadata": {},
     "output_type": "execute_result"
    }
   ],
   "source": [
    "# checking unique categories in 'Leadd'\n",
    "df['Leadd'].unique()"
   ]
  },
  {
   "cell_type": "code",
   "execution_count": 120,
   "metadata": {},
   "outputs": [
    {
     "data": {
      "text/plain": [
       "End Lead       496\n",
       "Active lead    362\n",
       "Hot lead       142\n",
       "Name: Leadd, dtype: int64"
      ]
     },
     "execution_count": 120,
     "metadata": {},
     "output_type": "execute_result"
    }
   ],
   "source": [
    "# Counts of each Categories present in 'Leadd'\n",
    "df['Leadd'].value_counts()"
   ]
  },
  {
   "cell_type": "code",
   "execution_count": 121,
   "metadata": {},
   "outputs": [
    {
     "data": {
      "image/png": "[encoded data removed]",
      "text/plain": [
       "<Figure size 600x600 with 1 Axes>"
      ]
     },
     "metadata": {},
     "output_type": "display_data"
    }
   ],
   "source": [
    "# counting leads through visualization\n",
    "plt.figure(figsize=(6,6))\n",
    "sns.countplot(x='Leadd',data=df,palette =\"BuGn_r\")\n",
    "plt.show()"
   ]
  },
  {
   "cell_type": "code",
   "execution_count": 122,
   "metadata": {},
   "outputs": [
    {
     "data": {
      "text/plain": [
       "Deepali Kasatwar       66\n",
       "Nilesh Shinde          65\n",
       "Ronak Jadhav           64\n",
       "Sushant Nikam          64\n",
       "Anchal Mishra          64\n",
       "Abhijeet Bramhane      61\n",
       "Azimuddin Mohd         61\n",
       "Roshan Patil           60\n",
       "Pooja Melwani          60\n",
       "Tamanna Sahu           59\n",
       "Deepali Yadav          57\n",
       "Manisha Parte          56\n",
       "Ritik Yadav            55\n",
       "Kiran Dhakal           54\n",
       "Akash Sharma           53\n",
       "Suryakant Choudhary    51\n",
       "Rohit Sonar            40\n",
       "Senthil Nadar          10\n",
       "Name: Handled_By, dtype: int64"
      ]
     },
     "execution_count": 122,
     "metadata": {},
     "output_type": "execute_result"
    }
   ],
   "source": [
    "#Counts of people as per customers they had handled \n",
    "df['Handled_By'].value_counts()"
   ]
  },
  {
   "cell_type": "code",
   "execution_count": 123,
   "metadata": {},
   "outputs": [
    {
     "data": {
      "image/png": "[encoded data removed]",
      "text/plain": [
       "<Figure size 600x600 with 1 Axes>"
      ]
     },
     "metadata": {},
     "output_type": "display_data"
    }
   ],
   "source": [
    "# counting no of customer converted and those not converted through visulization\n",
    "plt.figure(figsize=(6,6))\n",
    "sns.countplot(x='Converted',data=df,palette =\"BuGn_r\")\n",
    "plt.show()"
   ]
  },
  {
   "cell_type": "code",
   "execution_count": 124,
   "metadata": {},
   "outputs": [
    {
     "data": {
      "image/png": "[encoded data removed]",
      "text/plain": [
       "<Figure size 640x480 with 1 Axes>"
      ]
     },
     "metadata": {},
     "output_type": "display_data"
    }
   ],
   "source": [
    "sns.countplot(x='Leadd',hue='Converted',data=df,palette =\"BuGn_r\")\n",
    "plt.show()\n",
    "#As we can see only lead with Hot Leads are converted(Means they had liked the product or ideas)"
   ]
  },
  {
   "cell_type": "code",
   "execution_count": 125,
   "metadata": {},
   "outputs": [
    {
     "data": {
      "text/plain": [
       "array(['Google Ad', 'Insta', 'FB', 'Investment Leads', 'Calling',\n",
       "       'whatsapp', 'PZ VIP'], dtype=object)"
      ]
     },
     "execution_count": 125,
     "metadata": {},
     "output_type": "execute_result"
    }
   ],
   "source": [
    "df['Referencee'].unique()"
   ]
  },
  {
   "cell_type": "code",
   "execution_count": 126,
   "metadata": {},
   "outputs": [
    {
     "data": {
      "text/plain": [
       "FB                  228\n",
       "Insta               220\n",
       "Investment Leads    200\n",
       "Google Ad           195\n",
       "whatsapp             98\n",
       "Calling              31\n",
       "PZ VIP               28\n",
       "Name: Referencee, dtype: int64"
      ]
     },
     "execution_count": 126,
     "metadata": {},
     "output_type": "execute_result"
    }
   ],
   "source": [
    "df['Referencee'].value_counts()"
   ]
  },
  {
   "cell_type": "code",
   "execution_count": 127,
   "metadata": {},
   "outputs": [
    {
     "data": {
      "image/png": "[encoded data removed]",
      "text/plain": [
       "<Figure size 640x480 with 1 Axes>"
      ]
     },
     "metadata": {},
     "output_type": "display_data"
    }
   ],
   "source": [
    "sns.countplot(x='Referencee',data=df,palette =\"BuGn_r\")\n",
    "plt.show()"
   ]
  },
  {
   "cell_type": "code",
   "execution_count": 128,
   "metadata": {},
   "outputs": [],
   "source": [
    "# For data processing\n",
    "from sklearn import preprocessing"
   ]
  },
  {
   "cell_type": "code",
   "execution_count": 129,
   "metadata": {},
   "outputs": [],
   "source": [
    "label_Encoder=preprocessing.LabelEncoder()"
   ]
  },
  {
   "cell_type": "code",
   "execution_count": 130,
   "metadata": {},
   "outputs": [
    {
     "name": "stderr",
     "output_type": "stream",
     "text": [
      "C:\\Users\\AMEYA RAJESH PATIL\\AppData\\Local\\Temp\\ipykernel_22808\\4075583348.py:2: SettingWithCopyWarning: \n",
      "A value is trying to be set on a copy of a slice from a DataFrame.\n",
      "Try using .loc[row_indexer,col_indexer] = value instead\n",
      "\n",
      "See the caveats in the documentation: https://pandas.pydata.org/pandas-docs/stable/user_guide/indexing.html#returning-a-view-versus-a-copy\n",
      "  df['Leadd']=label_Encoder.fit_transform(df['Leadd'])\n"
     ]
    }
   ],
   "source": [
    "# Encode the column Lead\n",
    "df['Leadd']=label_Encoder.fit_transform(df['Leadd'])\n",
    "# 0===Active lead =Customer had still not said that I havent liked the product(had shown some interst)\n",
    "# 1===End Lead =Customer had said that he is not intersted in the product\n",
    "# 2===Hot Lead =Customer had liked the product"
   ]
  },
  {
   "cell_type": "code",
   "execution_count": 131,
   "metadata": {},
   "outputs": [
    {
     "name": "stderr",
     "output_type": "stream",
     "text": [
      "C:\\Users\\AMEYA RAJESH PATIL\\AppData\\Local\\Temp\\ipykernel_22808\\696733970.py:2: SettingWithCopyWarning: \n",
      "A value is trying to be set on a copy of a slice from a DataFrame.\n",
      "Try using .loc[row_indexer,col_indexer] = value instead\n",
      "\n",
      "See the caveats in the documentation: https://pandas.pydata.org/pandas-docs/stable/user_guide/indexing.html#returning-a-view-versus-a-copy\n",
      "  df['Converted']=label_Encoder.fit_transform(df['Converted'])\n"
     ]
    }
   ],
   "source": [
    "# Encode the column Converted column\n",
    "df['Converted']=label_Encoder.fit_transform(df['Converted'])\n",
    "\n",
    "# 0===NO\n",
    "# 1===YES"
   ]
  },
  {
   "cell_type": "code",
   "execution_count": 132,
   "metadata": {},
   "outputs": [
    {
     "name": "stderr",
     "output_type": "stream",
     "text": [
      "C:\\Users\\AMEYA RAJESH PATIL\\AppData\\Local\\Temp\\ipykernel_22808\\216669258.py:7: SettingWithCopyWarning: \n",
      "A value is trying to be set on a copy of a slice from a DataFrame.\n",
      "Try using .loc[row_indexer,col_indexer] = value instead\n",
      "\n",
      "See the caveats in the documentation: https://pandas.pydata.org/pandas-docs/stable/user_guide/indexing.html#returning-a-view-versus-a-copy\n",
      "  df['Handled_By']=df['Handled_By'].replace(Encode_Handles_By)\n"
     ]
    }
   ],
   "source": [
    "# Ordinal encoder on Hanled_By\n",
    "Encode_Handles_By={'Deepali Kasatwar':0,'Nilesh Shinde':1,'Ronak Jadhav':2,'Sushant Nikam':4,\n",
    "                   'Anchal Mishra':5,'Abhijeet Bramhane':6,'Azimuddin Mohd':7,'Roshan Patil':8,\n",
    "                   'Pooja Melwani':9,'Tamanna Sahu':10,'Deepali Yadav':11,'Manisha Parte':12,'Ritik Yadav':13,\n",
    "                   'Kiran Dhakal':14,'Akash Sharma':15,'Suryakant Choudhary':16,'Rohit Sonar':17,'Senthil Nadar':18}\n",
    "\n",
    "df['Handled_By']=df['Handled_By'].replace(Encode_Handles_By)"
   ]
  },
  {
   "cell_type": "code",
   "execution_count": 133,
   "metadata": {},
   "outputs": [
    {
     "data": {
      "text/html": [
       "<div>\n",
       "<style scoped>\n",
       "    .dataframe tbody tr th:only-of-type {\n",
       "        vertical-align: middle;\n",
       "    }\n",
       "\n",
       "    .dataframe tbody tr th {\n",
       "        vertical-align: top;\n",
       "    }\n",
       "\n",
       "    .dataframe thead th {\n",
       "        text-align: right;\n",
       "    }\n",
       "</style>\n",
       "<table border=\"1\" class=\"dataframe\">\n",
       "  <thead>\n",
       "    <tr style=\"text-align: right;\">\n",
       "      <th></th>\n",
       "      <th>Referencee</th>\n",
       "      <th>Handled_By</th>\n",
       "      <th>Leadd</th>\n",
       "      <th>Converted</th>\n",
       "    </tr>\n",
       "  </thead>\n",
       "  <tbody>\n",
       "    <tr>\n",
       "      <th>1</th>\n",
       "      <td>Google Ad</td>\n",
       "      <td>0</td>\n",
       "      <td>0</td>\n",
       "      <td>0</td>\n",
       "    </tr>\n",
       "    <tr>\n",
       "      <th>2</th>\n",
       "      <td>Google Ad</td>\n",
       "      <td>8</td>\n",
       "      <td>0</td>\n",
       "      <td>0</td>\n",
       "    </tr>\n",
       "    <tr>\n",
       "      <th>3</th>\n",
       "      <td>Google Ad</td>\n",
       "      <td>14</td>\n",
       "      <td>0</td>\n",
       "      <td>0</td>\n",
       "    </tr>\n",
       "    <tr>\n",
       "      <th>4</th>\n",
       "      <td>Insta</td>\n",
       "      <td>9</td>\n",
       "      <td>0</td>\n",
       "      <td>0</td>\n",
       "    </tr>\n",
       "    <tr>\n",
       "      <th>5</th>\n",
       "      <td>Insta</td>\n",
       "      <td>12</td>\n",
       "      <td>0</td>\n",
       "      <td>0</td>\n",
       "    </tr>\n",
       "    <tr>\n",
       "      <th>6</th>\n",
       "      <td>Insta</td>\n",
       "      <td>5</td>\n",
       "      <td>2</td>\n",
       "      <td>0</td>\n",
       "    </tr>\n",
       "    <tr>\n",
       "      <th>7</th>\n",
       "      <td>Insta</td>\n",
       "      <td>1</td>\n",
       "      <td>0</td>\n",
       "      <td>0</td>\n",
       "    </tr>\n",
       "    <tr>\n",
       "      <th>8</th>\n",
       "      <td>Insta</td>\n",
       "      <td>11</td>\n",
       "      <td>0</td>\n",
       "      <td>0</td>\n",
       "    </tr>\n",
       "    <tr>\n",
       "      <th>9</th>\n",
       "      <td>Insta</td>\n",
       "      <td>13</td>\n",
       "      <td>1</td>\n",
       "      <td>0</td>\n",
       "    </tr>\n",
       "    <tr>\n",
       "      <th>10</th>\n",
       "      <td>Insta</td>\n",
       "      <td>6</td>\n",
       "      <td>1</td>\n",
       "      <td>0</td>\n",
       "    </tr>\n",
       "    <tr>\n",
       "      <th>11</th>\n",
       "      <td>Insta</td>\n",
       "      <td>15</td>\n",
       "      <td>0</td>\n",
       "      <td>0</td>\n",
       "    </tr>\n",
       "    <tr>\n",
       "      <th>12</th>\n",
       "      <td>Insta</td>\n",
       "      <td>16</td>\n",
       "      <td>0</td>\n",
       "      <td>0</td>\n",
       "    </tr>\n",
       "    <tr>\n",
       "      <th>13</th>\n",
       "      <td>Insta</td>\n",
       "      <td>4</td>\n",
       "      <td>0</td>\n",
       "      <td>0</td>\n",
       "    </tr>\n",
       "    <tr>\n",
       "      <th>14</th>\n",
       "      <td>FB</td>\n",
       "      <td>7</td>\n",
       "      <td>1</td>\n",
       "      <td>0</td>\n",
       "    </tr>\n",
       "    <tr>\n",
       "      <th>15</th>\n",
       "      <td>FB</td>\n",
       "      <td>10</td>\n",
       "      <td>0</td>\n",
       "      <td>0</td>\n",
       "    </tr>\n",
       "    <tr>\n",
       "      <th>16</th>\n",
       "      <td>FB</td>\n",
       "      <td>17</td>\n",
       "      <td>1</td>\n",
       "      <td>0</td>\n",
       "    </tr>\n",
       "    <tr>\n",
       "      <th>17</th>\n",
       "      <td>FB</td>\n",
       "      <td>2</td>\n",
       "      <td>0</td>\n",
       "      <td>0</td>\n",
       "    </tr>\n",
       "    <tr>\n",
       "      <th>18</th>\n",
       "      <td>FB</td>\n",
       "      <td>0</td>\n",
       "      <td>1</td>\n",
       "      <td>0</td>\n",
       "    </tr>\n",
       "    <tr>\n",
       "      <th>19</th>\n",
       "      <td>FB</td>\n",
       "      <td>8</td>\n",
       "      <td>1</td>\n",
       "      <td>0</td>\n",
       "    </tr>\n",
       "    <tr>\n",
       "      <th>20</th>\n",
       "      <td>FB</td>\n",
       "      <td>14</td>\n",
       "      <td>1</td>\n",
       "      <td>0</td>\n",
       "    </tr>\n",
       "    <tr>\n",
       "      <th>21</th>\n",
       "      <td>FB</td>\n",
       "      <td>9</td>\n",
       "      <td>1</td>\n",
       "      <td>0</td>\n",
       "    </tr>\n",
       "    <tr>\n",
       "      <th>22</th>\n",
       "      <td>FB</td>\n",
       "      <td>12</td>\n",
       "      <td>1</td>\n",
       "      <td>0</td>\n",
       "    </tr>\n",
       "    <tr>\n",
       "      <th>23</th>\n",
       "      <td>Investment Leads</td>\n",
       "      <td>5</td>\n",
       "      <td>0</td>\n",
       "      <td>0</td>\n",
       "    </tr>\n",
       "    <tr>\n",
       "      <th>24</th>\n",
       "      <td>Investment Leads</td>\n",
       "      <td>1</td>\n",
       "      <td>0</td>\n",
       "      <td>0</td>\n",
       "    </tr>\n",
       "    <tr>\n",
       "      <th>25</th>\n",
       "      <td>Investment Leads</td>\n",
       "      <td>11</td>\n",
       "      <td>2</td>\n",
       "      <td>1</td>\n",
       "    </tr>\n",
       "    <tr>\n",
       "      <th>26</th>\n",
       "      <td>Investment Leads</td>\n",
       "      <td>13</td>\n",
       "      <td>0</td>\n",
       "      <td>0</td>\n",
       "    </tr>\n",
       "    <tr>\n",
       "      <th>27</th>\n",
       "      <td>Investment Leads</td>\n",
       "      <td>6</td>\n",
       "      <td>1</td>\n",
       "      <td>0</td>\n",
       "    </tr>\n",
       "    <tr>\n",
       "      <th>28</th>\n",
       "      <td>Investment Leads</td>\n",
       "      <td>15</td>\n",
       "      <td>0</td>\n",
       "      <td>0</td>\n",
       "    </tr>\n",
       "    <tr>\n",
       "      <th>29</th>\n",
       "      <td>Investment Leads</td>\n",
       "      <td>16</td>\n",
       "      <td>1</td>\n",
       "      <td>0</td>\n",
       "    </tr>\n",
       "    <tr>\n",
       "      <th>30</th>\n",
       "      <td>Investment Leads</td>\n",
       "      <td>4</td>\n",
       "      <td>1</td>\n",
       "      <td>0</td>\n",
       "    </tr>\n",
       "    <tr>\n",
       "      <th>31</th>\n",
       "      <td>Investment Leads</td>\n",
       "      <td>7</td>\n",
       "      <td>1</td>\n",
       "      <td>0</td>\n",
       "    </tr>\n",
       "    <tr>\n",
       "      <th>32</th>\n",
       "      <td>Calling</td>\n",
       "      <td>10</td>\n",
       "      <td>0</td>\n",
       "      <td>0</td>\n",
       "    </tr>\n",
       "    <tr>\n",
       "      <th>33</th>\n",
       "      <td>Calling</td>\n",
       "      <td>17</td>\n",
       "      <td>0</td>\n",
       "      <td>0</td>\n",
       "    </tr>\n",
       "    <tr>\n",
       "      <th>34</th>\n",
       "      <td>Calling</td>\n",
       "      <td>4</td>\n",
       "      <td>2</td>\n",
       "      <td>0</td>\n",
       "    </tr>\n",
       "    <tr>\n",
       "      <th>35</th>\n",
       "      <td>whatsapp</td>\n",
       "      <td>7</td>\n",
       "      <td>2</td>\n",
       "      <td>1</td>\n",
       "    </tr>\n",
       "    <tr>\n",
       "      <th>36</th>\n",
       "      <td>whatsapp</td>\n",
       "      <td>10</td>\n",
       "      <td>2</td>\n",
       "      <td>1</td>\n",
       "    </tr>\n",
       "    <tr>\n",
       "      <th>37</th>\n",
       "      <td>whatsapp</td>\n",
       "      <td>17</td>\n",
       "      <td>1</td>\n",
       "      <td>0</td>\n",
       "    </tr>\n",
       "    <tr>\n",
       "      <th>38</th>\n",
       "      <td>Investment Leads</td>\n",
       "      <td>2</td>\n",
       "      <td>0</td>\n",
       "      <td>0</td>\n",
       "    </tr>\n",
       "    <tr>\n",
       "      <th>39</th>\n",
       "      <td>Investment Leads</td>\n",
       "      <td>0</td>\n",
       "      <td>0</td>\n",
       "      <td>0</td>\n",
       "    </tr>\n",
       "  </tbody>\n",
       "</table>\n",
       "</div>"
      ],
      "text/plain": [
       "          Referencee  Handled_By  Leadd  Converted\n",
       "1          Google Ad           0      0          0\n",
       "2          Google Ad           8      0          0\n",
       "3          Google Ad          14      0          0\n",
       "4              Insta           9      0          0\n",
       "5              Insta          12      0          0\n",
       "6              Insta           5      2          0\n",
       "7              Insta           1      0          0\n",
       "8              Insta          11      0          0\n",
       "9              Insta          13      1          0\n",
       "10             Insta           6      1          0\n",
       "11             Insta          15      0          0\n",
       "12             Insta          16      0          0\n",
       "13             Insta           4      0          0\n",
       "14                FB           7      1          0\n",
       "15                FB          10      0          0\n",
       "16                FB          17      1          0\n",
       "17                FB           2      0          0\n",
       "18                FB           0      1          0\n",
       "19                FB           8      1          0\n",
       "20                FB          14      1          0\n",
       "21                FB           9      1          0\n",
       "22                FB          12      1          0\n",
       "23  Investment Leads           5      0          0\n",
       "24  Investment Leads           1      0          0\n",
       "25  Investment Leads          11      2          1\n",
       "26  Investment Leads          13      0          0\n",
       "27  Investment Leads           6      1          0\n",
       "28  Investment Leads          15      0          0\n",
       "29  Investment Leads          16      1          0\n",
       "30  Investment Leads           4      1          0\n",
       "31  Investment Leads           7      1          0\n",
       "32           Calling          10      0          0\n",
       "33           Calling          17      0          0\n",
       "34           Calling           4      2          0\n",
       "35          whatsapp           7      2          1\n",
       "36          whatsapp          10      2          1\n",
       "37          whatsapp          17      1          0\n",
       "38  Investment Leads           2      0          0\n",
       "39  Investment Leads           0      0          0"
      ]
     },
     "execution_count": 133,
     "metadata": {},
     "output_type": "execute_result"
    }
   ],
   "source": [
    "df[1:40]"
   ]
  },
  {
   "cell_type": "code",
   "execution_count": 134,
   "metadata": {},
   "outputs": [
    {
     "name": "stderr",
     "output_type": "stream",
     "text": [
      "C:\\Users\\AMEYA RAJESH PATIL\\AppData\\Local\\Temp\\ipykernel_22808\\1757216728.py:3: SettingWithCopyWarning: \n",
      "A value is trying to be set on a copy of a slice from a DataFrame.\n",
      "Try using .loc[row_indexer,col_indexer] = value instead\n",
      "\n",
      "See the caveats in the documentation: https://pandas.pydata.org/pandas-docs/stable/user_guide/indexing.html#returning-a-view-versus-a-copy\n",
      "  df['Referencee']=df['Referencee'].replace(Encode_Reference)\n"
     ]
    }
   ],
   "source": [
    "# Ordinal Encoding on Reference\n",
    "Encode_Reference={'FB':0,'Google Ad':1,'Insta':2,'Investment Leads':3,'Calling':4,'whatsapp':4,'PZ VIP':5}\n",
    "df['Referencee']=df['Referencee'].replace(Encode_Reference)"
   ]
  },
  {
   "cell_type": "code",
   "execution_count": 135,
   "metadata": {},
   "outputs": [
    {
     "data": {
      "image/png": "[encoded data removed]",
      "text/plain": [
       "<Figure size 600x600 with 1 Axes>"
      ]
     },
     "metadata": {},
     "output_type": "display_data"
    }
   ],
   "source": [
    "# visualization of reference\n",
    "plt.figure(figsize=(6,6))\n",
    "sns.countplot(x='Referencee',data=df,palette =\"BuGn_r\")\n",
    "plt.show()"
   ]
  },
  {
   "cell_type": "code",
   "execution_count": 136,
   "metadata": {},
   "outputs": [],
   "source": [
    "# Spliting in x and y \n",
    "x=df[['Referencee','Handled_By','Leadd']]\n",
    "y=df['Converted']"
   ]
  },
  {
   "cell_type": "code",
   "execution_count": 137,
   "metadata": {},
   "outputs": [
    {
     "data": {
      "text/html": [
       "<div>\n",
       "<style scoped>\n",
       "    .dataframe tbody tr th:only-of-type {\n",
       "        vertical-align: middle;\n",
       "    }\n",
       "\n",
       "    .dataframe tbody tr th {\n",
       "        vertical-align: top;\n",
       "    }\n",
       "\n",
       "    .dataframe thead th {\n",
       "        text-align: right;\n",
       "    }\n",
       "</style>\n",
       "<table border=\"1\" class=\"dataframe\">\n",
       "  <thead>\n",
       "    <tr style=\"text-align: right;\">\n",
       "      <th></th>\n",
       "      <th>Referencee</th>\n",
       "      <th>Handled_By</th>\n",
       "      <th>Leadd</th>\n",
       "    </tr>\n",
       "  </thead>\n",
       "  <tbody>\n",
       "    <tr>\n",
       "      <th>0</th>\n",
       "      <td>1</td>\n",
       "      <td>2</td>\n",
       "      <td>1</td>\n",
       "    </tr>\n",
       "    <tr>\n",
       "      <th>1</th>\n",
       "      <td>1</td>\n",
       "      <td>0</td>\n",
       "      <td>0</td>\n",
       "    </tr>\n",
       "    <tr>\n",
       "      <th>2</th>\n",
       "      <td>1</td>\n",
       "      <td>8</td>\n",
       "      <td>0</td>\n",
       "    </tr>\n",
       "    <tr>\n",
       "      <th>3</th>\n",
       "      <td>1</td>\n",
       "      <td>14</td>\n",
       "      <td>0</td>\n",
       "    </tr>\n",
       "    <tr>\n",
       "      <th>4</th>\n",
       "      <td>2</td>\n",
       "      <td>9</td>\n",
       "      <td>0</td>\n",
       "    </tr>\n",
       "    <tr>\n",
       "      <th>...</th>\n",
       "      <td>...</td>\n",
       "      <td>...</td>\n",
       "      <td>...</td>\n",
       "    </tr>\n",
       "    <tr>\n",
       "      <th>995</th>\n",
       "      <td>0</td>\n",
       "      <td>6</td>\n",
       "      <td>2</td>\n",
       "    </tr>\n",
       "    <tr>\n",
       "      <th>996</th>\n",
       "      <td>0</td>\n",
       "      <td>15</td>\n",
       "      <td>2</td>\n",
       "    </tr>\n",
       "    <tr>\n",
       "      <th>997</th>\n",
       "      <td>0</td>\n",
       "      <td>16</td>\n",
       "      <td>1</td>\n",
       "    </tr>\n",
       "    <tr>\n",
       "      <th>998</th>\n",
       "      <td>0</td>\n",
       "      <td>4</td>\n",
       "      <td>1</td>\n",
       "    </tr>\n",
       "    <tr>\n",
       "      <th>999</th>\n",
       "      <td>4</td>\n",
       "      <td>4</td>\n",
       "      <td>1</td>\n",
       "    </tr>\n",
       "  </tbody>\n",
       "</table>\n",
       "<p>1000 rows × 3 columns</p>\n",
       "</div>"
      ],
      "text/plain": [
       "     Referencee  Handled_By  Leadd\n",
       "0             1           2      1\n",
       "1             1           0      0\n",
       "2             1           8      0\n",
       "3             1          14      0\n",
       "4             2           9      0\n",
       "..          ...         ...    ...\n",
       "995           0           6      2\n",
       "996           0          15      2\n",
       "997           0          16      1\n",
       "998           0           4      1\n",
       "999           4           4      1\n",
       "\n",
       "[1000 rows x 3 columns]"
      ]
     },
     "execution_count": 137,
     "metadata": {},
     "output_type": "execute_result"
    }
   ],
   "source": [
    "x"
   ]
  },
  {
   "cell_type": "code",
   "execution_count": 138,
   "metadata": {},
   "outputs": [
    {
     "data": {
      "text/plain": [
       "0      0\n",
       "1      0\n",
       "2      0\n",
       "3      0\n",
       "4      0\n",
       "      ..\n",
       "995    0\n",
       "996    1\n",
       "997    0\n",
       "998    0\n",
       "999    0\n",
       "Name: Converted, Length: 1000, dtype: int32"
      ]
     },
     "execution_count": 138,
     "metadata": {},
     "output_type": "execute_result"
    }
   ],
   "source": [
    "y"
   ]
  },
  {
   "cell_type": "code",
   "execution_count": 139,
   "metadata": {},
   "outputs": [
    {
     "data": {
      "text/html": [
       "<div>\n",
       "<style scoped>\n",
       "    .dataframe tbody tr th:only-of-type {\n",
       "        vertical-align: middle;\n",
       "    }\n",
       "\n",
       "    .dataframe tbody tr th {\n",
       "        vertical-align: top;\n",
       "    }\n",
       "\n",
       "    .dataframe thead th {\n",
       "        text-align: right;\n",
       "    }\n",
       "</style>\n",
       "<table border=\"1\" class=\"dataframe\">\n",
       "  <thead>\n",
       "    <tr style=\"text-align: right;\">\n",
       "      <th></th>\n",
       "      <th>Converted</th>\n",
       "    </tr>\n",
       "  </thead>\n",
       "  <tbody>\n",
       "    <tr>\n",
       "      <th>0</th>\n",
       "      <td>0</td>\n",
       "    </tr>\n",
       "    <tr>\n",
       "      <th>1</th>\n",
       "      <td>0</td>\n",
       "    </tr>\n",
       "    <tr>\n",
       "      <th>2</th>\n",
       "      <td>0</td>\n",
       "    </tr>\n",
       "    <tr>\n",
       "      <th>3</th>\n",
       "      <td>0</td>\n",
       "    </tr>\n",
       "    <tr>\n",
       "      <th>4</th>\n",
       "      <td>0</td>\n",
       "    </tr>\n",
       "    <tr>\n",
       "      <th>...</th>\n",
       "      <td>...</td>\n",
       "    </tr>\n",
       "    <tr>\n",
       "      <th>995</th>\n",
       "      <td>0</td>\n",
       "    </tr>\n",
       "    <tr>\n",
       "      <th>996</th>\n",
       "      <td>1</td>\n",
       "    </tr>\n",
       "    <tr>\n",
       "      <th>997</th>\n",
       "      <td>0</td>\n",
       "    </tr>\n",
       "    <tr>\n",
       "      <th>998</th>\n",
       "      <td>0</td>\n",
       "    </tr>\n",
       "    <tr>\n",
       "      <th>999</th>\n",
       "      <td>0</td>\n",
       "    </tr>\n",
       "  </tbody>\n",
       "</table>\n",
       "<p>1000 rows × 1 columns</p>\n",
       "</div>"
      ],
      "text/plain": [
       "     Converted\n",
       "0            0\n",
       "1            0\n",
       "2            0\n",
       "3            0\n",
       "4            0\n",
       "..         ...\n",
       "995          0\n",
       "996          1\n",
       "997          0\n",
       "998          0\n",
       "999          0\n",
       "\n",
       "[1000 rows x 1 columns]"
      ]
     },
     "execution_count": 139,
     "metadata": {},
     "output_type": "execute_result"
    }
   ],
   "source": [
    "y=pd.DataFrame(y)\n",
    "y"
   ]
  },
  {
   "cell_type": "code",
   "execution_count": 140,
   "metadata": {},
   "outputs": [
    {
     "name": "stdout",
     "output_type": "stream",
     "text": [
      "Train set: (800, 3) (800, 1)\n",
      "Test set: (200, 3) (200, 1)\n"
     ]
    }
   ],
   "source": [
    "# Training And Testing the Dataset\n",
    "from sklearn.model_selection import train_test_split\n",
    "\n",
    "\n",
    "#Giving Test size to 20% and random state to 30.\n",
    "X_train, X_test, y_train, y_test = train_test_split(x, y, test_size = 0.20, random_state = 30)\n",
    "print ('Train set:', X_train.shape,  y_train.shape)\n",
    "print ('Test set:', X_test.shape,  y_test.shape)"
   ]
  },
  {
   "cell_type": "code",
   "execution_count": 141,
   "metadata": {},
   "outputs": [],
   "source": [
    "#Applying Standard Scaler\n",
    "from sklearn.preprocessing import StandardScaler\n",
    "from sklearn.metrics import accuracy_score\n",
    "\n",
    "scaler=StandardScaler()\n",
    "\n",
    "xtrain=scaler.fit_transform(X_train)\n",
    "xtest=scaler.transform(X_test)"
   ]
  },
  {
   "cell_type": "code",
   "execution_count": 142,
   "metadata": {},
   "outputs": [
    {
     "name": "stdout",
     "output_type": "stream",
     "text": [
      "\n",
      "Accuracy of the model in jaccard similarity score is =  0.1\n"
     ]
    },
    {
     "name": "stderr",
     "output_type": "stream",
     "text": [
      "c:\\Users\\AMEYA RAJESH PATIL\\anaconda3\\lib\\site-packages\\sklearn\\utils\\validation.py:1143: DataConversionWarning: A column-vector y was passed when a 1d array was expected. Please change the shape of y to (n_samples, ), for example using ravel().\n",
      "  y = column_or_1d(y, warn=True)\n"
     ]
    }
   ],
   "source": [
    " # Applying logistic regression on data\n",
    "from sklearn.linear_model import LogisticRegression\n",
    "\n",
    "logreg = LogisticRegression()\n",
    "logreg.fit(X_train, y_train)\n",
    "y_pred = logreg.predict(X_test)\n",
    " \n",
    "# Evaluation and accuracy\n",
    "from sklearn.metrics import jaccard_score\n",
    "print('')\n",
    "print('Accuracy of the model in jaccard similarity score is = ',jaccard_score(y_test, y_pred))"
   ]
  },
  {
   "cell_type": "code",
   "execution_count": 143,
   "metadata": {},
   "outputs": [
    {
     "data": {
      "text/plain": [
       "array([0, 0, 0, 0, 0, 0, 0, 0, 0, 0, 0, 0, 0, 0, 0, 0, 0, 0, 0, 0, 0, 0,\n",
       "       0, 0, 0, 0, 0, 0, 0, 0, 0, 0, 0, 0, 0, 0, 0, 0, 0, 0, 0, 0, 0, 0,\n",
       "       0, 0, 0, 0, 0, 0, 0, 0, 0, 0, 0, 0, 0, 0, 0, 0, 0, 0, 0, 0, 0, 0,\n",
       "       0, 0, 0, 0, 0, 0, 0, 0, 0, 0, 0, 0, 0, 0, 0, 0, 0, 0, 0, 0, 0, 0,\n",
       "       0, 0, 0, 0, 0, 0, 0, 0, 0, 0, 0, 0, 0, 0, 0, 0, 0, 0, 0, 0, 0, 0,\n",
       "       0, 0, 0, 0, 0, 0, 0, 0, 0, 1, 0, 0, 0, 0, 0, 0, 0, 0, 0, 0, 0, 0,\n",
       "       0, 0, 0, 0, 0, 0, 0, 0, 0, 0, 0, 0, 0, 0, 0, 0, 0, 0, 0, 0, 0, 0,\n",
       "       0, 0, 0, 0, 0, 0, 0, 0, 0, 0, 0, 0, 0, 0, 0, 0, 0, 0, 0, 0, 0, 0,\n",
       "       0, 0, 0, 0, 0, 0, 0, 0, 0, 0, 0, 0, 0, 0, 0, 0, 0, 0, 0, 0, 0, 0,\n",
       "       0, 0])"
      ]
     },
     "execution_count": 143,
     "metadata": {},
     "output_type": "execute_result"
    }
   ],
   "source": [
    "y_pred"
   ]
  },
  {
   "cell_type": "code",
   "execution_count": 144,
   "metadata": {},
   "outputs": [
    {
     "data": {
      "image/png": "[encoded data removed]",
      "text/plain": [
       "<Figure size 800x500 with 2 Axes>"
      ]
     },
     "metadata": {},
     "output_type": "display_data"
    },
    {
     "name": "stdout",
     "output_type": "stream",
     "text": [
      "The details for confusion matrix is =\n",
      "              precision    recall  f1-score   support\n",
      "\n",
      "           0       0.95      1.00      0.98       190\n",
      "           1       1.00      0.10      0.18        10\n",
      "\n",
      "    accuracy                           0.95       200\n",
      "   macro avg       0.98      0.55      0.58       200\n",
      "weighted avg       0.96      0.95      0.94       200\n",
      "\n"
     ]
    }
   ],
   "source": [
    "# Confusion matrix\n",
    "from sklearn.metrics import confusion_matrix, classification_report\n",
    " \n",
    "cm = confusion_matrix(y_test, y_pred)\n",
    "conf_matrix = pd.DataFrame(data = cm,\n",
    "                           columns = ['Predicted:0', 'Predicted:1'],\n",
    "                           index =['Actual:0', 'Actual:1'])\n",
    "plt.figure(figsize = (8, 5))\n",
    "sns.heatmap(conf_matrix, annot = True, fmt = 'd', cmap = \"Greens\")\n",
    "plt.show()\n",
    " \n",
    "print('The details for confusion matrix is =')\n",
    "print (classification_report(y_test, y_pred))"
   ]
  }
 ],
 "metadata": {
  "kernelspec": {
   "display_name": "Python 3",
   "language": "python",
   "name": "python3"
  },
  "language_info": {
   "codemirror_mode": {
    "name": "ipython",
    "version": 3
   },
   "file_extension": ".py",
   "mimetype": "text/x-python",
   "name": "python",
   "nbconvert_exporter": "python",
   "pygments_lexer": "ipython3",
   "version": "3.10.9"
  },
  "orig_nbformat": 4
 },
 "nbformat": 4,
 "nbformat_minor": 2
}

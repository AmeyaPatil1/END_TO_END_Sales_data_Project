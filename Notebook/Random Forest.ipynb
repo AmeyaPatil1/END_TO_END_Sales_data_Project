{
 "cells": [
  {
   "cell_type": "markdown",
   "metadata": {},
   "source": [
    "Random Forest On  Converted(Target- Converted)."
   ]
  },
  {
   "cell_type": "code",
   "execution_count": 22,
   "metadata": {},
   "outputs": [],
   "source": [
    "# Importing Libraries\n",
    "import pandas as pd\n",
    "from sklearn.ensemble import RandomForestClassifier\n",
    "from sklearn.model_selection import train_test_split\n",
    "from sklearn.metrics import classification_report, accuracy_score"
   ]
  },
  {
   "cell_type": "code",
   "execution_count": 23,
   "metadata": {},
   "outputs": [
    {
     "data": {
      "text/html": [
       "<div>\n",
       "<style scoped>\n",
       "    .dataframe tbody tr th:only-of-type {\n",
       "        vertical-align: middle;\n",
       "    }\n",
       "\n",
       "    .dataframe tbody tr th {\n",
       "        vertical-align: top;\n",
       "    }\n",
       "\n",
       "    .dataframe thead th {\n",
       "        text-align: right;\n",
       "    }\n",
       "</style>\n",
       "<table border=\"1\" class=\"dataframe\">\n",
       "  <thead>\n",
       "    <tr style=\"text-align: right;\">\n",
       "      <th></th>\n",
       "      <th>Namee</th>\n",
       "      <th>Email</th>\n",
       "      <th>Contact</th>\n",
       "      <th>City</th>\n",
       "      <th>Referencee</th>\n",
       "      <th>Handled_By</th>\n",
       "      <th>Leadd</th>\n",
       "      <th>Converted</th>\n",
       "      <th>To_Be_Converted</th>\n",
       "    </tr>\n",
       "  </thead>\n",
       "  <tbody>\n",
       "    <tr>\n",
       "      <th>0</th>\n",
       "      <td>Dinesh Deenu</td>\n",
       "      <td>dinesgdeenu88123@gmgil.com</td>\n",
       "      <td>9923998794</td>\n",
       "      <td>Bageshwar</td>\n",
       "      <td>Google Ad</td>\n",
       "      <td>Ronak Jadhav</td>\n",
       "      <td>End Lead</td>\n",
       "      <td>NO</td>\n",
       "      <td>NO</td>\n",
       "    </tr>\n",
       "    <tr>\n",
       "      <th>1</th>\n",
       "      <td>Chellapandi Pandi</td>\n",
       "      <td>cpcginnng@gmgil.com</td>\n",
       "      <td>9782442949</td>\n",
       "      <td>Madurai</td>\n",
       "      <td>Google Ad</td>\n",
       "      <td>Deepali Kasatwar</td>\n",
       "      <td>Active lead</td>\n",
       "      <td>NO</td>\n",
       "      <td>NO</td>\n",
       "    </tr>\n",
       "    <tr>\n",
       "      <th>2</th>\n",
       "      <td>Anand Nanda</td>\n",
       "      <td>gngndngndg990@gmgil.com</td>\n",
       "      <td>8929922349</td>\n",
       "      <td>jamakandi</td>\n",
       "      <td>Google Ad</td>\n",
       "      <td>Roshan Patil</td>\n",
       "      <td>Active lead</td>\n",
       "      <td>NO</td>\n",
       "      <td>NO</td>\n",
       "    </tr>\n",
       "    <tr>\n",
       "      <th>3</th>\n",
       "      <td>Saroj Kumar</td>\n",
       "      <td>sknilgm88@gmgil.com</td>\n",
       "      <td>8921739233</td>\n",
       "      <td>Kolkata</td>\n",
       "      <td>Google Ad</td>\n",
       "      <td>Kiran Dhakal</td>\n",
       "      <td>Active lead</td>\n",
       "      <td>NO</td>\n",
       "      <td>NO</td>\n",
       "    </tr>\n",
       "    <tr>\n",
       "      <th>4</th>\n",
       "      <td>Jitendrasinh Rajput Garashiya</td>\n",
       "      <td>jitendrgsingrgjput345345@gmgil.com</td>\n",
       "      <td>9323891992</td>\n",
       "      <td>Anand</td>\n",
       "      <td>Insta</td>\n",
       "      <td>Pooja Melwani</td>\n",
       "      <td>Active lead</td>\n",
       "      <td>NO</td>\n",
       "      <td>NO</td>\n",
       "    </tr>\n",
       "  </tbody>\n",
       "</table>\n",
       "</div>"
      ],
      "text/plain": [
       "                           Namee                             Email    \\\n",
       "0                   Dinesh Deenu          dinesgdeenu88123@gmgil.com   \n",
       "1              Chellapandi Pandi                 cpcginnng@gmgil.com   \n",
       "2                    Anand Nanda             gngndngndg990@gmgil.com   \n",
       "3                    Saroj Kumar                 sknilgm88@gmgil.com   \n",
       "4  Jitendrasinh Rajput Garashiya  jitendrgsingrgjput345345@gmgil.com   \n",
       "\n",
       "      Contact       City Referencee        Handled_By        Leadd Converted  \\\n",
       "0  9923998794  Bageshwar  Google Ad      Ronak Jadhav     End Lead        NO   \n",
       "1  9782442949    Madurai  Google Ad  Deepali Kasatwar  Active lead        NO   \n",
       "2  8929922349  jamakandi  Google Ad      Roshan Patil  Active lead        NO   \n",
       "3  8921739233    Kolkata  Google Ad      Kiran Dhakal  Active lead        NO   \n",
       "4  9323891992      Anand      Insta     Pooja Melwani  Active lead        NO   \n",
       "\n",
       "  To_Be_Converted  \n",
       "0              NO  \n",
       "1              NO  \n",
       "2              NO  \n",
       "3              NO  \n",
       "4              NO  "
      ]
     },
     "execution_count": 23,
     "metadata": {},
     "output_type": "execute_result"
    }
   ],
   "source": [
    "# Loading dataset\n",
    "df=pd.read_csv('END_TO_END_SALES.csv')\n",
    "df.head()"
   ]
  },
  {
   "cell_type": "code",
   "execution_count": 24,
   "metadata": {},
   "outputs": [
    {
     "data": {
      "text/html": [
       "<div>\n",
       "<style scoped>\n",
       "    .dataframe tbody tr th:only-of-type {\n",
       "        vertical-align: middle;\n",
       "    }\n",
       "\n",
       "    .dataframe tbody tr th {\n",
       "        vertical-align: top;\n",
       "    }\n",
       "\n",
       "    .dataframe thead th {\n",
       "        text-align: right;\n",
       "    }\n",
       "</style>\n",
       "<table border=\"1\" class=\"dataframe\">\n",
       "  <thead>\n",
       "    <tr style=\"text-align: right;\">\n",
       "      <th></th>\n",
       "      <th>Referencee</th>\n",
       "      <th>Handled_By</th>\n",
       "      <th>Leadd</th>\n",
       "      <th>Converted</th>\n",
       "      <th>To_Be_Converted</th>\n",
       "    </tr>\n",
       "  </thead>\n",
       "  <tbody>\n",
       "    <tr>\n",
       "      <th>0</th>\n",
       "      <td>Google Ad</td>\n",
       "      <td>Ronak Jadhav</td>\n",
       "      <td>End Lead</td>\n",
       "      <td>NO</td>\n",
       "      <td>NO</td>\n",
       "    </tr>\n",
       "    <tr>\n",
       "      <th>1</th>\n",
       "      <td>Google Ad</td>\n",
       "      <td>Deepali Kasatwar</td>\n",
       "      <td>Active lead</td>\n",
       "      <td>NO</td>\n",
       "      <td>NO</td>\n",
       "    </tr>\n",
       "    <tr>\n",
       "      <th>2</th>\n",
       "      <td>Google Ad</td>\n",
       "      <td>Roshan Patil</td>\n",
       "      <td>Active lead</td>\n",
       "      <td>NO</td>\n",
       "      <td>NO</td>\n",
       "    </tr>\n",
       "    <tr>\n",
       "      <th>3</th>\n",
       "      <td>Google Ad</td>\n",
       "      <td>Kiran Dhakal</td>\n",
       "      <td>Active lead</td>\n",
       "      <td>NO</td>\n",
       "      <td>NO</td>\n",
       "    </tr>\n",
       "    <tr>\n",
       "      <th>4</th>\n",
       "      <td>Insta</td>\n",
       "      <td>Pooja Melwani</td>\n",
       "      <td>Active lead</td>\n",
       "      <td>NO</td>\n",
       "      <td>NO</td>\n",
       "    </tr>\n",
       "    <tr>\n",
       "      <th>...</th>\n",
       "      <td>...</td>\n",
       "      <td>...</td>\n",
       "      <td>...</td>\n",
       "      <td>...</td>\n",
       "      <td>...</td>\n",
       "    </tr>\n",
       "    <tr>\n",
       "      <th>995</th>\n",
       "      <td>FB</td>\n",
       "      <td>Abhijeet Bramhane</td>\n",
       "      <td>Hot lead</td>\n",
       "      <td>NO</td>\n",
       "      <td>YES</td>\n",
       "    </tr>\n",
       "    <tr>\n",
       "      <th>996</th>\n",
       "      <td>FB</td>\n",
       "      <td>Akash Sharma</td>\n",
       "      <td>Hot lead</td>\n",
       "      <td>YES</td>\n",
       "      <td>Coverted</td>\n",
       "    </tr>\n",
       "    <tr>\n",
       "      <th>997</th>\n",
       "      <td>FB</td>\n",
       "      <td>Suryakant Choudhary</td>\n",
       "      <td>End Lead</td>\n",
       "      <td>NO</td>\n",
       "      <td>NO</td>\n",
       "    </tr>\n",
       "    <tr>\n",
       "      <th>998</th>\n",
       "      <td>FB</td>\n",
       "      <td>Sushant Nikam</td>\n",
       "      <td>End Lead</td>\n",
       "      <td>NO</td>\n",
       "      <td>NO</td>\n",
       "    </tr>\n",
       "    <tr>\n",
       "      <th>999</th>\n",
       "      <td>whatsapp</td>\n",
       "      <td>Sushant Nikam</td>\n",
       "      <td>End Lead</td>\n",
       "      <td>NO</td>\n",
       "      <td>NO</td>\n",
       "    </tr>\n",
       "  </tbody>\n",
       "</table>\n",
       "<p>1000 rows × 5 columns</p>\n",
       "</div>"
      ],
      "text/plain": [
       "    Referencee           Handled_By        Leadd Converted To_Be_Converted\n",
       "0    Google Ad         Ronak Jadhav     End Lead        NO              NO\n",
       "1    Google Ad     Deepali Kasatwar  Active lead        NO              NO\n",
       "2    Google Ad         Roshan Patil  Active lead        NO              NO\n",
       "3    Google Ad         Kiran Dhakal  Active lead        NO              NO\n",
       "4        Insta        Pooja Melwani  Active lead        NO              NO\n",
       "..         ...                  ...          ...       ...             ...\n",
       "995         FB    Abhijeet Bramhane     Hot lead        NO             YES\n",
       "996         FB         Akash Sharma     Hot lead       YES        Coverted\n",
       "997         FB  Suryakant Choudhary     End Lead        NO              NO\n",
       "998         FB        Sushant Nikam     End Lead        NO              NO\n",
       "999   whatsapp        Sushant Nikam     End Lead        NO              NO\n",
       "\n",
       "[1000 rows x 5 columns]"
      ]
     },
     "execution_count": 24,
     "metadata": {},
     "output_type": "execute_result"
    }
   ],
   "source": [
    "df=df[['Referencee','Handled_By','Leadd','Converted','To_Be_Converted']]\n",
    "df"
   ]
  },
  {
   "cell_type": "code",
   "execution_count": 25,
   "metadata": {},
   "outputs": [],
   "source": [
    "# Importing Library 'preprocessing'\n",
    "from sklearn import preprocessing\n",
    "Label_Encoder=preprocessing.LabelEncoder()\n",
    "df['Converted']=Label_Encoder.fit_transform(df['Converted'])\n",
    "# 0===NO\n",
    "# 1===YES\n",
    "\n",
    "df['To_Be_Converted']=Label_Encoder.fit_transform(df['To_Be_Converted'])\n",
    "\n",
    "# 0===Already Converted\n",
    "# 1=== Not Converted\n",
    "# 2===To be converted(means Had given particular time and had confirmed)\n",
    "\n",
    "# Ordinal Encoding\n",
    "Encode_Reference={'FB':0,'Google Ad':1,'Insta':2,'Investment Leads':3,'Calling':4,'whatsapp':5,'PZ VIP':6}\n",
    "df['Referencee']=df['Referencee'].replace(Encode_Reference)\n",
    "\n",
    "# Ordinal encoder\n",
    "Encode_Handles_By={'Deepali Kasatwar':0,'Nilesh Shinde':1,'Ronak Jadhav':2,'Sushant Nikam':4,'Anchal Mishra':5,'Abhijeet Bramhane':6,'Azimuddin Mohd':7,'Roshan Patil':8,'Pooja Melwani':9,'Tamanna Sahu':10,'Deepali Yadav':11,'Manisha Parte':12,'Ritik Yadav':13,'Kiran Dhakal':14,'Akash Sharma':15,'Suryakant Choudhary':16,'Rohit Sonar':17,'Senthil Nadar':18}\n",
    "df['Handled_By']=df['Handled_By'].replace(Encode_Handles_By)\n",
    "\n",
    "# Encode the column Lead\n",
    "df['Leadd']=Label_Encoder.fit_transform(df['Leadd'])\n",
    "# 0===Active lead =Customer had still not said that I havent liked the product(had shown some interst)\n",
    "# 1===End Lead =Customer had said that he is not intersted in the product\n",
    "# 2===Hot Lead =Customer had liked the product"
   ]
  },
  {
   "cell_type": "code",
   "execution_count": 26,
   "metadata": {},
   "outputs": [],
   "source": [
    "# Assigning the features to x and y\n",
    "x=df[['Referencee','Handled_By','Leadd']]\n",
    "y=df['Converted']"
   ]
  },
  {
   "cell_type": "code",
   "execution_count": 27,
   "metadata": {},
   "outputs": [],
   "source": [
    "#Training and Testing the model\n",
    "\n",
    "xtrain,xtest,ytrain,ytest=train_test_split(x,y,test_size=0.25,random_state=30)"
   ]
  },
  {
   "cell_type": "code",
   "execution_count": 28,
   "metadata": {},
   "outputs": [
    {
     "data": {
      "text/plain": [
       "(750, 3)"
      ]
     },
     "execution_count": 28,
     "metadata": {},
     "output_type": "execute_result"
    }
   ],
   "source": [
    "xtrain.shape"
   ]
  },
  {
   "cell_type": "code",
   "execution_count": 29,
   "metadata": {},
   "outputs": [
    {
     "data": {
      "text/plain": [
       "(250, 3)"
      ]
     },
     "execution_count": 29,
     "metadata": {},
     "output_type": "execute_result"
    }
   ],
   "source": [
    "xtest.shape"
   ]
  },
  {
   "cell_type": "code",
   "execution_count": 30,
   "metadata": {},
   "outputs": [],
   "source": [
    "# Create random forest classifier\n",
    "clf=RandomForestClassifier(random_state=30)"
   ]
  },
  {
   "cell_type": "code",
   "execution_count": 31,
   "metadata": {},
   "outputs": [
    {
     "data": {
      "text/html": [
       "<style>#sk-container-id-2 {color: black;background-color: white;}#sk-container-id-2 pre{padding: 0;}#sk-container-id-2 div.sk-toggleable {background-color: white;}#sk-container-id-2 label.sk-toggleable__label {cursor: pointer;display: block;width: 100%;margin-bottom: 0;padding: 0.3em;box-sizing: border-box;text-align: center;}#sk-container-id-2 label.sk-toggleable__label-arrow:before {content: \"▸\";float: left;margin-right: 0.25em;color: #696969;}#sk-container-id-2 label.sk-toggleable__label-arrow:hover:before {color: black;}#sk-container-id-2 div.sk-estimator:hover label.sk-toggleable__label-arrow:before {color: black;}#sk-container-id-2 div.sk-toggleable__content {max-height: 0;max-width: 0;overflow: hidden;text-align: left;background-color: #f0f8ff;}#sk-container-id-2 div.sk-toggleable__content pre {margin: 0.2em;color: black;border-radius: 0.25em;background-color: #f0f8ff;}#sk-container-id-2 input.sk-toggleable__control:checked~div.sk-toggleable__content {max-height: 200px;max-width: 100%;overflow: auto;}#sk-container-id-2 input.sk-toggleable__control:checked~label.sk-toggleable__label-arrow:before {content: \"▾\";}#sk-container-id-2 div.sk-estimator input.sk-toggleable__control:checked~label.sk-toggleable__label {background-color: #d4ebff;}#sk-container-id-2 div.sk-label input.sk-toggleable__control:checked~label.sk-toggleable__label {background-color: #d4ebff;}#sk-container-id-2 input.sk-hidden--visually {border: 0;clip: rect(1px 1px 1px 1px);clip: rect(1px, 1px, 1px, 1px);height: 1px;margin: -1px;overflow: hidden;padding: 0;position: absolute;width: 1px;}#sk-container-id-2 div.sk-estimator {font-family: monospace;background-color: #f0f8ff;border: 1px dotted black;border-radius: 0.25em;box-sizing: border-box;margin-bottom: 0.5em;}#sk-container-id-2 div.sk-estimator:hover {background-color: #d4ebff;}#sk-container-id-2 div.sk-parallel-item::after {content: \"\";width: 100%;border-bottom: 1px solid gray;flex-grow: 1;}#sk-container-id-2 div.sk-label:hover label.sk-toggleable__label {background-color: #d4ebff;}#sk-container-id-2 div.sk-serial::before {content: \"\";position: absolute;border-left: 1px solid gray;box-sizing: border-box;top: 0;bottom: 0;left: 50%;z-index: 0;}#sk-container-id-2 div.sk-serial {display: flex;flex-direction: column;align-items: center;background-color: white;padding-right: 0.2em;padding-left: 0.2em;position: relative;}#sk-container-id-2 div.sk-item {position: relative;z-index: 1;}#sk-container-id-2 div.sk-parallel {display: flex;align-items: stretch;justify-content: center;background-color: white;position: relative;}#sk-container-id-2 div.sk-item::before, #sk-container-id-2 div.sk-parallel-item::before {content: \"\";position: absolute;border-left: 1px solid gray;box-sizing: border-box;top: 0;bottom: 0;left: 50%;z-index: -1;}#sk-container-id-2 div.sk-parallel-item {display: flex;flex-direction: column;z-index: 1;position: relative;background-color: white;}#sk-container-id-2 div.sk-parallel-item:first-child::after {align-self: flex-end;width: 50%;}#sk-container-id-2 div.sk-parallel-item:last-child::after {align-self: flex-start;width: 50%;}#sk-container-id-2 div.sk-parallel-item:only-child::after {width: 0;}#sk-container-id-2 div.sk-dashed-wrapped {border: 1px dashed gray;margin: 0 0.4em 0.5em 0.4em;box-sizing: border-box;padding-bottom: 0.4em;background-color: white;}#sk-container-id-2 div.sk-label label {font-family: monospace;font-weight: bold;display: inline-block;line-height: 1.2em;}#sk-container-id-2 div.sk-label-container {text-align: center;}#sk-container-id-2 div.sk-container {/* jupyter's `normalize.less` sets `[hidden] { display: none; }` but bootstrap.min.css set `[hidden] { display: none !important; }` so we also need the `!important` here to be able to override the default hidden behavior on the sphinx rendered scikit-learn.org. See: https://github.com/scikit-learn/scikit-learn/issues/21755 */display: inline-block !important;position: relative;}#sk-container-id-2 div.sk-text-repr-fallback {display: none;}</style><div id=\"sk-container-id-2\" class=\"sk-top-container\"><div class=\"sk-text-repr-fallback\"><pre>RandomForestClassifier(random_state=30)</pre><b>In a Jupyter environment, please rerun this cell to show the HTML representation or trust the notebook. <br />On GitHub, the HTML representation is unable to render, please try loading this page with nbviewer.org.</b></div><div class=\"sk-container\" hidden><div class=\"sk-item\"><div class=\"sk-estimator sk-toggleable\"><input class=\"sk-toggleable__control sk-hidden--visually\" id=\"sk-estimator-id-2\" type=\"checkbox\" checked><label for=\"sk-estimator-id-2\" class=\"sk-toggleable__label sk-toggleable__label-arrow\">RandomForestClassifier</label><div class=\"sk-toggleable__content\"><pre>RandomForestClassifier(random_state=30)</pre></div></div></div></div></div>"
      ],
      "text/plain": [
       "RandomForestClassifier(random_state=30)"
      ]
     },
     "execution_count": 31,
     "metadata": {},
     "output_type": "execute_result"
    }
   ],
   "source": [
    "# Fitting the model\n",
    "clf.fit(xtrain,ytrain)"
   ]
  },
  {
   "cell_type": "code",
   "execution_count": 32,
   "metadata": {},
   "outputs": [],
   "source": [
    "# predicting the target var for the test data\n",
    "ypred=clf.predict(xtest)"
   ]
  },
  {
   "cell_type": "code",
   "execution_count": 33,
   "metadata": {},
   "outputs": [
    {
     "name": "stdout",
     "output_type": "stream",
     "text": [
      "              precision    recall  f1-score   support\n",
      "\n",
      "           0       0.98      0.98      0.98       236\n",
      "           1       0.64      0.64      0.64        14\n",
      "\n",
      "    accuracy                           0.96       250\n",
      "   macro avg       0.81      0.81      0.81       250\n",
      "weighted avg       0.96      0.96      0.96       250\n",
      "\n"
     ]
    }
   ],
   "source": [
    "from sklearn.metrics import classification_report\n",
    "print(classification_report(ytest,ypred))"
   ]
  },
  {
   "cell_type": "code",
   "execution_count": 34,
   "metadata": {},
   "outputs": [
    {
     "data": {
      "text/plain": [
       "0.96"
      ]
     },
     "execution_count": 34,
     "metadata": {},
     "output_type": "execute_result"
    }
   ],
   "source": [
    "#Accuracy \n",
    "acc=accuracy_score(ytest,ypred)\n",
    "acc"
   ]
  },
  {
   "cell_type": "markdown",
   "metadata": {},
   "source": [
    "Random Forest On To_Be_Converted (Target- To_Be_Converted)"
   ]
  },
  {
   "cell_type": "code",
   "execution_count": 1,
   "metadata": {},
   "outputs": [],
   "source": [
    "# Importing Libraries\n",
    "import pandas as pd\n",
    "from sklearn.ensemble import RandomForestClassifier\n",
    "from sklearn.model_selection import train_test_split\n",
    "from sklearn.metrics import classification_report, accuracy_score"
   ]
  },
  {
   "cell_type": "code",
   "execution_count": 3,
   "metadata": {},
   "outputs": [
    {
     "data": {
      "text/html": [
       "<div>\n",
       "<style scoped>\n",
       "    .dataframe tbody tr th:only-of-type {\n",
       "        vertical-align: middle;\n",
       "    }\n",
       "\n",
       "    .dataframe tbody tr th {\n",
       "        vertical-align: top;\n",
       "    }\n",
       "\n",
       "    .dataframe thead th {\n",
       "        text-align: right;\n",
       "    }\n",
       "</style>\n",
       "<table border=\"1\" class=\"dataframe\">\n",
       "  <thead>\n",
       "    <tr style=\"text-align: right;\">\n",
       "      <th></th>\n",
       "      <th>Namee</th>\n",
       "      <th>Email</th>\n",
       "      <th>Contact</th>\n",
       "      <th>City</th>\n",
       "      <th>Referencee</th>\n",
       "      <th>Handled_By</th>\n",
       "      <th>Leadd</th>\n",
       "      <th>Converted</th>\n",
       "      <th>To_Be_Converted</th>\n",
       "    </tr>\n",
       "  </thead>\n",
       "  <tbody>\n",
       "    <tr>\n",
       "      <th>0</th>\n",
       "      <td>Dinesh Deenu</td>\n",
       "      <td>dinesgdeenu88123@gmgil.com</td>\n",
       "      <td>9923998794</td>\n",
       "      <td>Bageshwar</td>\n",
       "      <td>Google Ad</td>\n",
       "      <td>Ronak Jadhav</td>\n",
       "      <td>End Lead</td>\n",
       "      <td>NO</td>\n",
       "      <td>NO</td>\n",
       "    </tr>\n",
       "    <tr>\n",
       "      <th>1</th>\n",
       "      <td>Chellapandi Pandi</td>\n",
       "      <td>cpcginnng@gmgil.com</td>\n",
       "      <td>9782442949</td>\n",
       "      <td>Madurai</td>\n",
       "      <td>Google Ad</td>\n",
       "      <td>Deepali Kasatwar</td>\n",
       "      <td>Active lead</td>\n",
       "      <td>NO</td>\n",
       "      <td>NO</td>\n",
       "    </tr>\n",
       "    <tr>\n",
       "      <th>2</th>\n",
       "      <td>Anand Nanda</td>\n",
       "      <td>gngndngndg990@gmgil.com</td>\n",
       "      <td>8929922349</td>\n",
       "      <td>jamakandi</td>\n",
       "      <td>Google Ad</td>\n",
       "      <td>Roshan Patil</td>\n",
       "      <td>Active lead</td>\n",
       "      <td>NO</td>\n",
       "      <td>NO</td>\n",
       "    </tr>\n",
       "    <tr>\n",
       "      <th>3</th>\n",
       "      <td>Saroj Kumar</td>\n",
       "      <td>sknilgm88@gmgil.com</td>\n",
       "      <td>8921739233</td>\n",
       "      <td>Kolkata</td>\n",
       "      <td>Google Ad</td>\n",
       "      <td>Kiran Dhakal</td>\n",
       "      <td>Active lead</td>\n",
       "      <td>NO</td>\n",
       "      <td>NO</td>\n",
       "    </tr>\n",
       "    <tr>\n",
       "      <th>4</th>\n",
       "      <td>Jitendrasinh Rajput Garashiya</td>\n",
       "      <td>jitendrgsingrgjput345345@gmgil.com</td>\n",
       "      <td>9323891992</td>\n",
       "      <td>Anand</td>\n",
       "      <td>Insta</td>\n",
       "      <td>Pooja Melwani</td>\n",
       "      <td>Active lead</td>\n",
       "      <td>NO</td>\n",
       "      <td>NO</td>\n",
       "    </tr>\n",
       "  </tbody>\n",
       "</table>\n",
       "</div>"
      ],
      "text/plain": [
       "                           Namee                             Email    \\\n",
       "0                   Dinesh Deenu          dinesgdeenu88123@gmgil.com   \n",
       "1              Chellapandi Pandi                 cpcginnng@gmgil.com   \n",
       "2                    Anand Nanda             gngndngndg990@gmgil.com   \n",
       "3                    Saroj Kumar                 sknilgm88@gmgil.com   \n",
       "4  Jitendrasinh Rajput Garashiya  jitendrgsingrgjput345345@gmgil.com   \n",
       "\n",
       "      Contact       City Referencee        Handled_By        Leadd Converted  \\\n",
       "0  9923998794  Bageshwar  Google Ad      Ronak Jadhav     End Lead        NO   \n",
       "1  9782442949    Madurai  Google Ad  Deepali Kasatwar  Active lead        NO   \n",
       "2  8929922349  jamakandi  Google Ad      Roshan Patil  Active lead        NO   \n",
       "3  8921739233    Kolkata  Google Ad      Kiran Dhakal  Active lead        NO   \n",
       "4  9323891992      Anand      Insta     Pooja Melwani  Active lead        NO   \n",
       "\n",
       "  To_Be_Converted  \n",
       "0              NO  \n",
       "1              NO  \n",
       "2              NO  \n",
       "3              NO  \n",
       "4              NO  "
      ]
     },
     "execution_count": 3,
     "metadata": {},
     "output_type": "execute_result"
    }
   ],
   "source": [
    "# Target To_Be_Converted\n",
    "# Loading dataset\n",
    "df=pd.read_csv('END_TO_END_SALES.csv')\n",
    "df.head()"
   ]
  },
  {
   "cell_type": "code",
   "execution_count": 4,
   "metadata": {},
   "outputs": [
    {
     "data": {
      "text/html": [
       "<div>\n",
       "<style scoped>\n",
       "    .dataframe tbody tr th:only-of-type {\n",
       "        vertical-align: middle;\n",
       "    }\n",
       "\n",
       "    .dataframe tbody tr th {\n",
       "        vertical-align: top;\n",
       "    }\n",
       "\n",
       "    .dataframe thead th {\n",
       "        text-align: right;\n",
       "    }\n",
       "</style>\n",
       "<table border=\"1\" class=\"dataframe\">\n",
       "  <thead>\n",
       "    <tr style=\"text-align: right;\">\n",
       "      <th></th>\n",
       "      <th>Referencee</th>\n",
       "      <th>Handled_By</th>\n",
       "      <th>Leadd</th>\n",
       "      <th>Converted</th>\n",
       "      <th>To_Be_Converted</th>\n",
       "    </tr>\n",
       "  </thead>\n",
       "  <tbody>\n",
       "    <tr>\n",
       "      <th>0</th>\n",
       "      <td>Google Ad</td>\n",
       "      <td>Ronak Jadhav</td>\n",
       "      <td>End Lead</td>\n",
       "      <td>NO</td>\n",
       "      <td>NO</td>\n",
       "    </tr>\n",
       "    <tr>\n",
       "      <th>1</th>\n",
       "      <td>Google Ad</td>\n",
       "      <td>Deepali Kasatwar</td>\n",
       "      <td>Active lead</td>\n",
       "      <td>NO</td>\n",
       "      <td>NO</td>\n",
       "    </tr>\n",
       "    <tr>\n",
       "      <th>2</th>\n",
       "      <td>Google Ad</td>\n",
       "      <td>Roshan Patil</td>\n",
       "      <td>Active lead</td>\n",
       "      <td>NO</td>\n",
       "      <td>NO</td>\n",
       "    </tr>\n",
       "    <tr>\n",
       "      <th>3</th>\n",
       "      <td>Google Ad</td>\n",
       "      <td>Kiran Dhakal</td>\n",
       "      <td>Active lead</td>\n",
       "      <td>NO</td>\n",
       "      <td>NO</td>\n",
       "    </tr>\n",
       "    <tr>\n",
       "      <th>4</th>\n",
       "      <td>Insta</td>\n",
       "      <td>Pooja Melwani</td>\n",
       "      <td>Active lead</td>\n",
       "      <td>NO</td>\n",
       "      <td>NO</td>\n",
       "    </tr>\n",
       "    <tr>\n",
       "      <th>...</th>\n",
       "      <td>...</td>\n",
       "      <td>...</td>\n",
       "      <td>...</td>\n",
       "      <td>...</td>\n",
       "      <td>...</td>\n",
       "    </tr>\n",
       "    <tr>\n",
       "      <th>995</th>\n",
       "      <td>FB</td>\n",
       "      <td>Abhijeet Bramhane</td>\n",
       "      <td>Hot lead</td>\n",
       "      <td>NO</td>\n",
       "      <td>YES</td>\n",
       "    </tr>\n",
       "    <tr>\n",
       "      <th>996</th>\n",
       "      <td>FB</td>\n",
       "      <td>Akash Sharma</td>\n",
       "      <td>Hot lead</td>\n",
       "      <td>YES</td>\n",
       "      <td>Coverted</td>\n",
       "    </tr>\n",
       "    <tr>\n",
       "      <th>997</th>\n",
       "      <td>FB</td>\n",
       "      <td>Suryakant Choudhary</td>\n",
       "      <td>End Lead</td>\n",
       "      <td>NO</td>\n",
       "      <td>NO</td>\n",
       "    </tr>\n",
       "    <tr>\n",
       "      <th>998</th>\n",
       "      <td>FB</td>\n",
       "      <td>Sushant Nikam</td>\n",
       "      <td>End Lead</td>\n",
       "      <td>NO</td>\n",
       "      <td>NO</td>\n",
       "    </tr>\n",
       "    <tr>\n",
       "      <th>999</th>\n",
       "      <td>whatsapp</td>\n",
       "      <td>Sushant Nikam</td>\n",
       "      <td>End Lead</td>\n",
       "      <td>NO</td>\n",
       "      <td>NO</td>\n",
       "    </tr>\n",
       "  </tbody>\n",
       "</table>\n",
       "<p>1000 rows × 5 columns</p>\n",
       "</div>"
      ],
      "text/plain": [
       "    Referencee           Handled_By        Leadd Converted To_Be_Converted\n",
       "0    Google Ad         Ronak Jadhav     End Lead        NO              NO\n",
       "1    Google Ad     Deepali Kasatwar  Active lead        NO              NO\n",
       "2    Google Ad         Roshan Patil  Active lead        NO              NO\n",
       "3    Google Ad         Kiran Dhakal  Active lead        NO              NO\n",
       "4        Insta        Pooja Melwani  Active lead        NO              NO\n",
       "..         ...                  ...          ...       ...             ...\n",
       "995         FB    Abhijeet Bramhane     Hot lead        NO             YES\n",
       "996         FB         Akash Sharma     Hot lead       YES        Coverted\n",
       "997         FB  Suryakant Choudhary     End Lead        NO              NO\n",
       "998         FB        Sushant Nikam     End Lead        NO              NO\n",
       "999   whatsapp        Sushant Nikam     End Lead        NO              NO\n",
       "\n",
       "[1000 rows x 5 columns]"
      ]
     },
     "execution_count": 4,
     "metadata": {},
     "output_type": "execute_result"
    }
   ],
   "source": [
    "df=df[['Referencee','Handled_By','Leadd','Converted','To_Be_Converted']]\n",
    "df"
   ]
  },
  {
   "cell_type": "code",
   "execution_count": 5,
   "metadata": {},
   "outputs": [],
   "source": [
    "# Importing Library 'preprocessing'\n",
    "from sklearn import preprocessing\n",
    "Label_Encoder=preprocessing.LabelEncoder()\n",
    "df['Converted']=Label_Encoder.fit_transform(df['Converted'])\n",
    "# 0===NO\n",
    "# 1===YES\n",
    "\n",
    "df['To_Be_Converted']=Label_Encoder.fit_transform(df['To_Be_Converted'])\n",
    "\n",
    "# 0===Already Converted\n",
    "# 1=== Not Converted\n",
    "# 2===To be converted(means Had given particular time and had confirmed)\n",
    "\n",
    "# Ordinal Encoding\n",
    "Encode_Reference={'FB':0,'Google Ad':1,'Insta':2,'Investment Leads':3,'Calling':4,'whatsapp':5,'PZ VIP':6}\n",
    "df['Referencee']=df['Referencee'].replace(Encode_Reference)\n",
    "\n",
    "# Ordinal encoder\n",
    "Encode_Handles_By={'Deepali Kasatwar':0,'Nilesh Shinde':1,'Ronak Jadhav':2,'Sushant Nikam':4,'Anchal Mishra':5,'Abhijeet Bramhane':6,'Azimuddin Mohd':7,'Roshan Patil':8,'Pooja Melwani':9,'Tamanna Sahu':10,'Deepali Yadav':11,'Manisha Parte':12,'Ritik Yadav':13,'Kiran Dhakal':14,'Akash Sharma':15,'Suryakant Choudhary':16,'Rohit Sonar':17,'Senthil Nadar':18}\n",
    "df['Handled_By']=df['Handled_By'].replace(Encode_Handles_By)\n",
    "\n",
    "# Encode the column Lead\n",
    "df['Leadd']=Label_Encoder.fit_transform(df['Leadd'])\n",
    "# 0===Active lead =Customer had still not said that I havent liked the product(had shown some interst)\n",
    "# 1===End Lead =Customer had said that he is not intersted in the product\n",
    "# 2===Hot Lead =Customer had liked the product"
   ]
  },
  {
   "cell_type": "code",
   "execution_count": 6,
   "metadata": {},
   "outputs": [],
   "source": [
    "# Assigning the features to x and y\n",
    "x=df[['Referencee','Handled_By','Leadd']]\n",
    "y=df['To_Be_Converted']"
   ]
  },
  {
   "cell_type": "code",
   "execution_count": 7,
   "metadata": {},
   "outputs": [],
   "source": [
    "# Training and Testing the model\n",
    "xtrain,xtest,ytrain,ytest=train_test_split(x,y,random_state=30,test_size=0.25)"
   ]
  },
  {
   "cell_type": "code",
   "execution_count": 8,
   "metadata": {},
   "outputs": [
    {
     "data": {
      "text/plain": [
       "(750, 3)"
      ]
     },
     "execution_count": 8,
     "metadata": {},
     "output_type": "execute_result"
    }
   ],
   "source": [
    "xtrain.shape"
   ]
  },
  {
   "cell_type": "code",
   "execution_count": 9,
   "metadata": {},
   "outputs": [
    {
     "data": {
      "text/plain": [
       "(250, 3)"
      ]
     },
     "execution_count": 9,
     "metadata": {},
     "output_type": "execute_result"
    }
   ],
   "source": [
    "xtest.shape"
   ]
  },
  {
   "cell_type": "code",
   "execution_count": 26,
   "metadata": {},
   "outputs": [],
   "source": [
    "# Create random forest classifier\n",
    "clf=RandomForestClassifier(random_state=25)"
   ]
  },
  {
   "cell_type": "code",
   "execution_count": 27,
   "metadata": {},
   "outputs": [
    {
     "data": {
      "text/html": [
       "<style>#sk-container-id-5 {color: black;background-color: white;}#sk-container-id-5 pre{padding: 0;}#sk-container-id-5 div.sk-toggleable {background-color: white;}#sk-container-id-5 label.sk-toggleable__label {cursor: pointer;display: block;width: 100%;margin-bottom: 0;padding: 0.3em;box-sizing: border-box;text-align: center;}#sk-container-id-5 label.sk-toggleable__label-arrow:before {content: \"▸\";float: left;margin-right: 0.25em;color: #696969;}#sk-container-id-5 label.sk-toggleable__label-arrow:hover:before {color: black;}#sk-container-id-5 div.sk-estimator:hover label.sk-toggleable__label-arrow:before {color: black;}#sk-container-id-5 div.sk-toggleable__content {max-height: 0;max-width: 0;overflow: hidden;text-align: left;background-color: #f0f8ff;}#sk-container-id-5 div.sk-toggleable__content pre {margin: 0.2em;color: black;border-radius: 0.25em;background-color: #f0f8ff;}#sk-container-id-5 input.sk-toggleable__control:checked~div.sk-toggleable__content {max-height: 200px;max-width: 100%;overflow: auto;}#sk-container-id-5 input.sk-toggleable__control:checked~label.sk-toggleable__label-arrow:before {content: \"▾\";}#sk-container-id-5 div.sk-estimator input.sk-toggleable__control:checked~label.sk-toggleable__label {background-color: #d4ebff;}#sk-container-id-5 div.sk-label input.sk-toggleable__control:checked~label.sk-toggleable__label {background-color: #d4ebff;}#sk-container-id-5 input.sk-hidden--visually {border: 0;clip: rect(1px 1px 1px 1px);clip: rect(1px, 1px, 1px, 1px);height: 1px;margin: -1px;overflow: hidden;padding: 0;position: absolute;width: 1px;}#sk-container-id-5 div.sk-estimator {font-family: monospace;background-color: #f0f8ff;border: 1px dotted black;border-radius: 0.25em;box-sizing: border-box;margin-bottom: 0.5em;}#sk-container-id-5 div.sk-estimator:hover {background-color: #d4ebff;}#sk-container-id-5 div.sk-parallel-item::after {content: \"\";width: 100%;border-bottom: 1px solid gray;flex-grow: 1;}#sk-container-id-5 div.sk-label:hover label.sk-toggleable__label {background-color: #d4ebff;}#sk-container-id-5 div.sk-serial::before {content: \"\";position: absolute;border-left: 1px solid gray;box-sizing: border-box;top: 0;bottom: 0;left: 50%;z-index: 0;}#sk-container-id-5 div.sk-serial {display: flex;flex-direction: column;align-items: center;background-color: white;padding-right: 0.2em;padding-left: 0.2em;position: relative;}#sk-container-id-5 div.sk-item {position: relative;z-index: 1;}#sk-container-id-5 div.sk-parallel {display: flex;align-items: stretch;justify-content: center;background-color: white;position: relative;}#sk-container-id-5 div.sk-item::before, #sk-container-id-5 div.sk-parallel-item::before {content: \"\";position: absolute;border-left: 1px solid gray;box-sizing: border-box;top: 0;bottom: 0;left: 50%;z-index: -1;}#sk-container-id-5 div.sk-parallel-item {display: flex;flex-direction: column;z-index: 1;position: relative;background-color: white;}#sk-container-id-5 div.sk-parallel-item:first-child::after {align-self: flex-end;width: 50%;}#sk-container-id-5 div.sk-parallel-item:last-child::after {align-self: flex-start;width: 50%;}#sk-container-id-5 div.sk-parallel-item:only-child::after {width: 0;}#sk-container-id-5 div.sk-dashed-wrapped {border: 1px dashed gray;margin: 0 0.4em 0.5em 0.4em;box-sizing: border-box;padding-bottom: 0.4em;background-color: white;}#sk-container-id-5 div.sk-label label {font-family: monospace;font-weight: bold;display: inline-block;line-height: 1.2em;}#sk-container-id-5 div.sk-label-container {text-align: center;}#sk-container-id-5 div.sk-container {/* jupyter's `normalize.less` sets `[hidden] { display: none; }` but bootstrap.min.css set `[hidden] { display: none !important; }` so we also need the `!important` here to be able to override the default hidden behavior on the sphinx rendered scikit-learn.org. See: https://github.com/scikit-learn/scikit-learn/issues/21755 */display: inline-block !important;position: relative;}#sk-container-id-5 div.sk-text-repr-fallback {display: none;}</style><div id=\"sk-container-id-5\" class=\"sk-top-container\"><div class=\"sk-text-repr-fallback\"><pre>RandomForestClassifier(random_state=25)</pre><b>In a Jupyter environment, please rerun this cell to show the HTML representation or trust the notebook. <br />On GitHub, the HTML representation is unable to render, please try loading this page with nbviewer.org.</b></div><div class=\"sk-container\" hidden><div class=\"sk-item\"><div class=\"sk-estimator sk-toggleable\"><input class=\"sk-toggleable__control sk-hidden--visually\" id=\"sk-estimator-id-5\" type=\"checkbox\" checked><label for=\"sk-estimator-id-5\" class=\"sk-toggleable__label sk-toggleable__label-arrow\">RandomForestClassifier</label><div class=\"sk-toggleable__content\"><pre>RandomForestClassifier(random_state=25)</pre></div></div></div></div></div>"
      ],
      "text/plain": [
       "RandomForestClassifier(random_state=25)"
      ]
     },
     "execution_count": 27,
     "metadata": {},
     "output_type": "execute_result"
    }
   ],
   "source": [
    "# Fitting the model\n",
    "clf.fit(xtrain,ytrain)"
   ]
  },
  {
   "cell_type": "code",
   "execution_count": 28,
   "metadata": {},
   "outputs": [],
   "source": [
    "# predicting the target var for the test data\n",
    "ypred=clf.predict(xtest)"
   ]
  },
  {
   "cell_type": "code",
   "execution_count": 29,
   "metadata": {},
   "outputs": [
    {
     "name": "stdout",
     "output_type": "stream",
     "text": [
      "              precision    recall  f1-score   support\n",
      "\n",
      "           0       0.00      0.00      0.00         1\n",
      "           1       0.60      0.69      0.64        13\n",
      "           2       0.99      0.97      0.98       229\n",
      "           3       0.44      0.57      0.50         7\n",
      "\n",
      "    accuracy                           0.94       250\n",
      "   macro avg       0.51      0.56      0.53       250\n",
      "weighted avg       0.95      0.94      0.95       250\n",
      "\n"
     ]
    },
    {
     "name": "stderr",
     "output_type": "stream",
     "text": [
      "c:\\Users\\AMEYA RAJESH PATIL\\anaconda3\\lib\\site-packages\\sklearn\\metrics\\_classification.py:1344: UndefinedMetricWarning: Precision and F-score are ill-defined and being set to 0.0 in labels with no predicted samples. Use `zero_division` parameter to control this behavior.\n",
      "  _warn_prf(average, modifier, msg_start, len(result))\n",
      "c:\\Users\\AMEYA RAJESH PATIL\\anaconda3\\lib\\site-packages\\sklearn\\metrics\\_classification.py:1344: UndefinedMetricWarning: Precision and F-score are ill-defined and being set to 0.0 in labels with no predicted samples. Use `zero_division` parameter to control this behavior.\n",
      "  _warn_prf(average, modifier, msg_start, len(result))\n",
      "c:\\Users\\AMEYA RAJESH PATIL\\anaconda3\\lib\\site-packages\\sklearn\\metrics\\_classification.py:1344: UndefinedMetricWarning: Precision and F-score are ill-defined and being set to 0.0 in labels with no predicted samples. Use `zero_division` parameter to control this behavior.\n",
      "  _warn_prf(average, modifier, msg_start, len(result))\n"
     ]
    }
   ],
   "source": [
    "from sklearn.metrics import classification_report\n",
    "print(classification_report(ytest,ypred))"
   ]
  },
  {
   "cell_type": "code",
   "execution_count": null,
   "metadata": {},
   "outputs": [],
   "source": []
  }
 ],
 "metadata": {
  "kernelspec": {
   "display_name": "base",
   "language": "python",
   "name": "python3"
  },
  "language_info": {
   "codemirror_mode": {
    "name": "ipython",
    "version": 3
   },
   "file_extension": ".py",
   "mimetype": "text/x-python",
   "name": "python",
   "nbconvert_exporter": "python",
   "pygments_lexer": "ipython3",
   "version": "3.10.9"
  },
  "orig_nbformat": 4
 },
 "nbformat": 4,
 "nbformat_minor": 2
}
